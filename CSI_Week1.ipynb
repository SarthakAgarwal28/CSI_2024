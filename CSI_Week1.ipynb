{
 "cells": [
  {
   "cell_type": "markdown",
   "id": "187d7361",
   "metadata": {},
   "source": [
    "# Print the Triangle patterns:"
   ]
  },
  {
   "cell_type": "markdown",
   "id": "7a47fb46",
   "metadata": {},
   "source": [
    "<h4>Q) Create lower triangular, upper triangular and pyramid containing the \"*\" character.</h4>"
   ]
  },
  {
   "cell_type": "markdown",
   "id": "758c2c07",
   "metadata": {},
   "source": [
    "1. Lower triangular matrix"
   ]
  },
  {
   "cell_type": "code",
   "execution_count": 4,
   "id": "7ed1e677",
   "metadata": {},
   "outputs": [
    {
     "name": "stdout",
     "output_type": "stream",
     "text": [
      "*                \n",
      "* *              \n",
      "* * *            \n",
      "* * * *          \n",
      "* * * * *        \n",
      "* * * * * *      \n",
      "* * * * * * *    \n",
      "* * * * * * * *  \n",
      "* * * * * * * * *\n"
     ]
    }
   ],
   "source": [
    "import random\n",
    "n = random.randint(3, 11)\n",
    "\n",
    "matrix = [[' ' for _ in range(n)] for _ in range(n)]\n",
    "\n",
    "for i in range(n):\n",
    "    for j in range(i+1):\n",
    "        matrix[i][j] = '*'\n",
    "\n",
    "# Print the matrix\n",
    "for row in matrix:\n",
    "      print(' '.join(row))"
   ]
  },
  {
   "cell_type": "markdown",
   "id": "81694ef4",
   "metadata": {},
   "source": [
    "2. Upper triangular matrix"
   ]
  },
  {
   "cell_type": "code",
   "execution_count": 3,
   "id": "2b107333",
   "metadata": {},
   "outputs": [
    {
     "name": "stdout",
     "output_type": "stream",
     "text": [
      "* * * * * *\n",
      "  * * * * *\n",
      "    * * * *\n",
      "      * * *\n",
      "        * *\n",
      "          *\n"
     ]
    }
   ],
   "source": [
    "import random\n",
    "n = random.randint(3, 11)\n",
    "\n",
    "matrix = [[' ' for _ in range(n)] for _ in range(n)]\n",
    "\n",
    "# Loop through each row and column\n",
    "for i in range(n):\n",
    "    for j in range(i, n):\n",
    "        matrix[i][j] = '*'\n",
    "\n",
    "# Print the matrix\n",
    "for row in matrix:\n",
    "    print(' '.join(row))"
   ]
  },
  {
   "cell_type": "markdown",
   "id": "e2c34482",
   "metadata": {},
   "source": [
    "3. Pyramid pattern"
   ]
  },
  {
   "cell_type": "code",
   "execution_count": 11,
   "id": "964b7fb7",
   "metadata": {},
   "outputs": [
    {
     "name": "stdout",
     "output_type": "stream",
     "text": [
      "                  *   \n",
      "                 *  *   \n",
      "                *  *  *   \n",
      "               *  *  *  *   \n",
      "              *  *  *  *  *   \n",
      "             *  *  *  *  *  *   \n",
      "            *  *  *  *  *  *  *   \n",
      "           *  *  *  *  *  *  *  *   \n",
      "          *  *  *  *  *  *  *  *  *   \n",
      "         *  *  *  *  *  *  *  *  *  *   \n"
     ]
    }
   ],
   "source": [
    "import random\n",
    "n = random.randint(3, 11)\n",
    "\n",
    "m = (2 * n) - 2\n",
    "for i in range(0, n):\n",
    "    for j in range(0, m):\n",
    "        print(end=\" \")\n",
    "    # decrementing m after each loop\n",
    "    m = m - 1\n",
    "    for j in range(0, i + 1):\n",
    "        print(\"* \", end=' ')\n",
    "    print(\" \")"
   ]
  }
 ],
 "metadata": {
  "kernelspec": {
   "display_name": "Python 3 (ipykernel)",
   "language": "python",
   "name": "python3"
  },
  "language_info": {
   "codemirror_mode": {
    "name": "ipython",
    "version": 3
   },
   "file_extension": ".py",
   "mimetype": "text/x-python",
   "name": "python",
   "nbconvert_exporter": "python",
   "pygments_lexer": "ipython3",
   "version": "3.9.7"
  }
 },
 "nbformat": 4,
 "nbformat_minor": 5
}
